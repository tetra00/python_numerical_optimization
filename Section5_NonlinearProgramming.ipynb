{
 "cells": [
  {
   "cell_type": "markdown",
   "metadata": {},
   "source": [
    "# Sympyを使って微分係数を求める"
   ]
  },
  {
   "cell_type": "code",
   "execution_count": 1,
   "metadata": {
    "collapsed": true
   },
   "outputs": [],
   "source": [
    "from sympy import *"
   ]
  },
  {
   "cell_type": "code",
   "execution_count": 2,
   "metadata": {},
   "outputs": [
    {
     "name": "stdout",
     "output_type": "stream",
     "text": [
      "[10*x[0] + 8*x[1] - 34, 8*x[0] + 10*x[1] - 38]\n",
      "[[10, 8], [8, 10]]\n"
     ]
    }
   ],
   "source": [
    "x = [Symbol('x[0]'), Symbol('x[1]')]\n",
    "\n",
    "f1 = lambda x:(x[0]+2*x[1]-7)**2 + (2*x[0]+x[1]-5)**2\n",
    "\n",
    "print([diff(f1(x), x[0]), diff(f1(x), x[1])])\n",
    "\n",
    "print([[diff(f1(x), x[0], x[0]), diff(f1(x), x[0], x[1])],\n",
    "       [diff(f1(x), x[1], x[0]), diff(f1(x), x[1], x[1])]])"
   ]
  },
  {
   "cell_type": "markdown",
   "metadata": {},
   "source": [
    "# P.169 コレスキー分解"
   ]
  },
  {
   "cell_type": "code",
   "execution_count": 3,
   "metadata": {},
   "outputs": [
    {
     "name": "stdout",
     "output_type": "stream",
     "text": [
      "[[35  0]\n",
      " [ 0 14]]\n",
      "[[5.91607978 0.        ]\n",
      " [0.         3.74165739]]\n",
      "[[35.  0.]\n",
      " [ 0. 14.]]\n"
     ]
    }
   ],
   "source": [
    "import numpy as np\n",
    "import scipy.linalg as linalg\n",
    "\n",
    "a = np.random.randint(-10, 10, (3,2))\n",
    "A = np.dot(a.T, a)\n",
    "print(A)\n",
    "\n",
    "# 下三角行列Uに分解\n",
    "U = linalg.cholesky(A)\n",
    "print(U)\n",
    "\n",
    "print(np.dot(U.T,U))"
   ]
  },
  {
   "cell_type": "markdown",
   "metadata": {},
   "source": [
    "# P.174 ニュートン法"
   ]
  },
  {
   "cell_type": "code",
   "execution_count": 4,
   "metadata": {
    "collapsed": true
   },
   "outputs": [],
   "source": [
    "x = [Symbol('x[' + str(i) +']') for i in range(3)]\n",
    "# 関数f\n",
    "f = lambda x:sum(100*(x[i+1] - x[i]**2)**2 + (x[i]-1)**2 for i in range(2))"
   ]
  },
  {
   "cell_type": "code",
   "execution_count": 5,
   "metadata": {},
   "outputs": [
    {
     "name": "stdout",
     "output_type": "stream",
     "text": [
      "[-400*x[0]*(-x[0]**2 + x[1]) + 2*x[0] - 2, -200*x[0]**2 - 400*x[1]*(-x[1]**2 + x[2]) + 202*x[1] - 2, -200*x[1]**2 + 200*x[2]]\n"
     ]
    }
   ],
   "source": [
    "print([diff(f(x), x[0]), diff(f(x), x[1]), diff(f(x), x[2])])"
   ]
  },
  {
   "cell_type": "code",
   "execution_count": 6,
   "metadata": {},
   "outputs": [
    {
     "name": "stdout",
     "output_type": "stream",
     "text": [
      "[[2*(600*x[0]**2 - 200*x[1] + 1), -400*x[0], 0], [-400*x[0], 2*(600*x[1]**2 - 200*x[2] + 101), -400*x[1]], [0, -400*x[1], 200]]\n"
     ]
    }
   ],
   "source": [
    "print([\n",
    "    [diff(f(x), x[0], x[0]), diff(f(x), x[0], x[1]), diff(f(x), x[0], x[2])],\n",
    "    [diff(f(x), x[1], x[0]), diff(f(x), x[1], x[1]), diff(f(x), x[1], x[2])],\n",
    "    [diff(f(x), x[2], x[0]), diff(f(x), x[2], x[1]), diff(f(x), x[2], x[2])],\n",
    "])"
   ]
  },
  {
   "cell_type": "code",
   "execution_count": 7,
   "metadata": {
    "collapsed": true
   },
   "outputs": [],
   "source": [
    "# 勾配ベクトル\n",
    "nf = lambda x:np.array(\n",
    "    [-400*x[0]*(-x[0]**2 + x[1]) + 2*x[0] - 2, \n",
    "     -200*x[0]**2 - 400*x[1]*(-x[1]**2 + x[2]) + 202*x[1] - 2, \n",
    "     -200*x[1]**2 + 200*x[2]]\n",
    ")\n",
    "\n",
    "# ヘッセ行列\n",
    "Hf = lambda x:np.array(\n",
    "    [\n",
    "        [2*(600*x[0]**2 - 200*x[1] + 1), -400*x[0], 0],\n",
    "        [-400*x[0], 2*(600*x[1]**2 - 200*x[2] + 101), -400*x[1]],\n",
    "        [0, -400*x[1], 200]\n",
    "    ]  \n",
    ")"
   ]
  },
  {
   "cell_type": "code",
   "execution_count": 8,
   "metadata": {
    "scrolled": true
   },
   "outputs": [
    {
     "name": "stdout",
     "output_type": "stream",
     "text": [
      "k= 1 : xk= [  6.90177364  10.15438635 103.08772695]\n",
      "k= 2 : xk= [  6.55660837  40.99957925 729.53957352]\n",
      "k= 3 : xk= [   6.40799855   40.99939058 1680.95002753]\n",
      "k= 4 : xk= [    3.49278516     3.67433827 -1379.65876772]\n",
      "k= 5 : xk= [ 2.5882274   3.67512024 13.5065082 ]\n",
      "k= 6 : xk= [ 2.53951869  6.39285083 33.48248218]\n",
      "k= 7 : xk= [ 2.52714041  6.38901776 40.81953328]\n",
      "k= 8 : xk= [  1.42537298   0.81976269 -30.34459119]\n",
      "k= 9 : xk= [1.09903468 0.82425834 0.6793816 ]\n",
      "k= 10 : xk= [1.09231206 1.19117386 1.28426817]\n",
      "k= 11 : xk= [1.08745478 1.18292585 1.39924554]\n",
      "k= 12 : xk= [1.00275246 0.99837933 0.96270387]\n",
      "k= 13 : xk= [0.99947738 0.99891841 0.9978377 ]\n",
      "k= 14 : xk= [0.99999931 0.99999837 0.99999557]\n",
      "k= 15 : xk= [1. 1. 1.]\n"
     ]
    }
   ],
   "source": [
    "# ニュートン法\n",
    "x0 = [10,10,10]\n",
    "MEPS = 1.0e-6\n",
    "\n",
    "k = 0\n",
    "xk = np.array(x0)\n",
    "while linalg.norm(nf(xk)) > MEPS:\n",
    "    d = -np.dot(linalg.inv(Hf(xk)), nf(xk))\n",
    "    xk = xk + d\n",
    "    k = k +1\n",
    "    print('k=',k,': xk=',xk) #, ', grad=', nf(xk))"
   ]
  },
  {
   "cell_type": "code",
   "execution_count": 9,
   "metadata": {},
   "outputs": [
    {
     "name": "stdout",
     "output_type": "stream",
     "text": [
      "      fun: -0.15509077522360842\n",
      " hess_inv: array([[1.50372993, 0.36709477],\n",
      "       [0.36709477, 0.12580684]])\n",
      "      jac: array([-4.95463610e-07,  1.68383121e-06])\n",
      "  message: 'Optimization terminated successfully.'\n",
      "     nfev: 56\n",
      "      nit: 12\n",
      "     njev: 14\n",
      "   status: 0\n",
      "  success: True\n",
      "        x: array([3.15033469, 0.43409377])\n"
     ]
    }
   ],
   "source": [
    "# 準ニュートン法:ヘッセ行列が陽に求められないときなど\n",
    "from scipy.optimize import minimize\n",
    "\n",
    "f = lambda x:(1.5-x[0]+x[0]*x[1])**2+(2.25-x[0]+x[0]*x[1]**2)+(2.625-x[0]+x[0]*x[1]**3)**2\n",
    "\n",
    "x0 = [0,0]\n",
    "res = minimize(f, x0, method='BFGS')\n",
    "print(res)"
   ]
  },
  {
   "cell_type": "markdown",
   "metadata": {},
   "source": [
    "# P.182 凸2次最適化問題\n",
    "\n",
    "- minimize c.T * x + 1/2x.T * Q * x\n",
    "- subject to A * x >= b, x >= 0"
   ]
  },
  {
   "cell_type": "code",
   "execution_count": 14,
   "metadata": {},
   "outputs": [
    {
     "name": "stdout",
     "output_type": "stream",
     "text": [
      "     pcost       dcost       gap    pres   dres\n",
      " 0: -4.8105e+00 -6.4700e+00  1e+01  4e-01  3e+00\n",
      " 1: -4.1678e+00 -5.6606e+00  1e+00  3e-17  1e-16\n",
      " 2: -4.5418e+00 -4.6061e+00  6e-02  1e-16  2e-16\n",
      " 3: -4.5465e+00 -4.5472e+00  7e-04  1e-16  1e-16\n",
      " 4: -4.5465e+00 -4.5465e+00  7e-06  1e-16  2e-16\n",
      " 5: -4.5465e+00 -4.5465e+00  7e-08  6e-17  1e-16\n",
      "Optimal solution found.\n",
      "{'relative gap': 1.6022504205937345e-08, 'y': <0x1 matrix, tc='d'>, 'x': <2x1 matrix, tc='d'>, 'z': <4x1 matrix, tc='d'>, 'dual objective': -4.546511694891993, 'iterations': 5, 'gap': 7.284650158656691e-08, 'primal slack': 1.0081752643395157e-08, 'status': 'optimal', 'dual slack': 4.214302890474512e-09, 's': <4x1 matrix, tc='d'>, 'dual infeasibility': 1.0235750533041806e-16, 'primal objective': -4.546511622045491, 'primal infeasibility': 6.030892188481198e-17}\n",
      "[ 1.19e+00]\n",
      "[ 9.53e-01]\n",
      "\n",
      "-4.546511622045491\n"
     ]
    }
   ],
   "source": [
    "from cvxopt import solvers, matrix\n",
    "import numpy as np\n",
    "\n",
    "Q = matrix(np.array([[2.0,-1.0], [-1.0,3.0]]))\n",
    "c = matrix(np.array([-2.0,-4.0]))\n",
    "A = matrix(np.array([[-1.0, 0.0], [0.0, -1.0], [2.0,3.0], [1.0, 4.0]]))\n",
    "b = matrix(np.array([0.0, 0.0, 6.0, 5.0]))\n",
    "\n",
    "sol = solvers.qp(P=Q, q=c, G=A, h=b)\n",
    "print(sol)\n",
    "print(sol['x'])\n",
    "print(sol['primal objective'])"
   ]
  },
  {
   "cell_type": "markdown",
   "metadata": {
    "collapsed": true
   },
   "source": [
    "# P.183 ゴミ集積所決定問題"
   ]
  },
  {
   "cell_type": "code",
   "execution_count": 15,
   "metadata": {
    "collapsed": true
   },
   "outputs": [],
   "source": [
    "import numpy as np\n",
    "import picos as pic\n",
    "import matplotlib.pyplot as plt\n",
    "% matplotlib inline"
   ]
  },
  {
   "cell_type": "code",
   "execution_count": 20,
   "metadata": {},
   "outputs": [
    {
     "name": "stdout",
     "output_type": "stream",
     "text": [
      "--------------------------\n",
      "  cvxopt CONELP solver\n",
      "--------------------------\n",
      "     pcost       dcost       gap    pres   dres   k/t\n",
      " 0: -3.6415e-14 -1.5148e-14  9e+02  5e-01  8e-17  1e+00\n",
      " 1:  5.5052e+02  5.5465e+02  2e+02  1e-01  5e-16  4e+00\n",
      " 2:  6.0315e+02  6.0404e+02  4e+01  2e-02  7e-16  9e-01\n",
      " 3:  6.1384e+02  6.1426e+02  1e+01  9e-03  5e-16  4e-01\n",
      " 4:  6.1807e+02  6.1814e+02  1e+00  7e-04  6e-16  7e-02\n",
      " 5:  6.1856e+02  6.1856e+02  6e-02  4e-05  1e-15  4e-03\n",
      " 6:  6.1859e+02  6.1859e+02  2e-03  1e-06  4e-14  1e-04\n",
      " 7:  6.1859e+02  6.1859e+02  9e-05  6e-08  2e-13  6e-06\n",
      " 8:  6.1859e+02  6.1859e+02  2e-06  2e-09  2e-12  1e-07\n",
      "Optimal solution found.\n",
      "cvxopt status: optimal\n"
     ]
    }
   ],
   "source": [
    "socp = pic.Problem()\n",
    "\n",
    "H = [0,1,2,3,4,5,6,7]\n",
    "p = [\n",
    "    [44,47],\n",
    "    [64,67],\n",
    "    [67, 9],\n",
    "    [83,21],\n",
    "    [36,87],\n",
    "    [70,88],\n",
    "    [88,12],\n",
    "    [58,65]\n",
    "]\n",
    "w = [1,2,2,1,2,5,4,1]\n",
    "\n",
    "# 設計変数はx[0],x[1]を持つ二次元変数(ゴミ集積所の場所)\n",
    "X = socp.add_variable('X',2)\n",
    "# 各地店からゴミ集積所までの距離d_i\n",
    "d = [socp.add_variable('d[' + str(i) + ']', 1) for i in H]\n",
    "# 目的関数：重み付き距離の最小化\n",
    "objective = sum(w[i]*d[i] for i in H)\n",
    "socp.set_objective('min', objective)\n",
    "# 制約条件：集積所から各地点まではd_i以下\n",
    "socp.add_list_of_constraints([abs(p[i] - X) < d[i] for i in H])\n",
    "\n",
    "res = socp.solve(solver='cvxopt')"
   ]
  },
  {
   "cell_type": "code",
   "execution_count": 26,
   "metadata": {},
   "outputs": [
    {
     "data": {
      "text/plain": [
       "<matplotlib.collections.PathCollection at 0x1135d0d30>"
      ]
     },
     "execution_count": 26,
     "metadata": {},
     "output_type": "execute_result"
    },
    {
     "data": {
      "image/png": "[encoded data removed]",
      "text/plain": [
       "<matplotlib.figure.Figure at 0x1135bceb8>"
      ]
     },
     "metadata": {},
     "output_type": "display_data"
    }
   ],
   "source": [
    "x = np.array(p)[:,0]\n",
    "y = np.array(p)[:,1]\n",
    "\n",
    "plt.scatter(x, y, color='k', marker='+',s=400)\n",
    "plt.scatter(X.value[0], X.value[1],  marker='o', s=500)"
   ]
  },
  {
   "cell_type": "code",
   "execution_count": null,
   "metadata": {
    "collapsed": true
   },
   "outputs": [],
   "source": []
  }
 ],
 "metadata": {
  "kernelspec": {
   "display_name": "Python 3",
   "language": "python",
   "name": "python3"
  },
  "language_info": {
   "codemirror_mode": {
    "name": "ipython",
    "version": 3
   },
   "file_extension": ".py",
   "mimetype": "text/x-python",
   "name": "python",
   "nbconvert_exporter": "python",
   "pygments_lexer": "ipython3",
   "version": "3.5.4"
  }
 },
 "nbformat": 4,
 "nbformat_minor": 2
}
