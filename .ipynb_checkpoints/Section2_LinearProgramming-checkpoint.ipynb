{
 "cells": [
  {
   "cell_type": "markdown",
   "metadata": {},
   "source": [
    "# P.28 例題"
   ]
  },
  {
   "cell_type": "code",
   "execution_count": 8,
   "metadata": {
    "collapsed": true
   },
   "outputs": [],
   "source": [
    "import numpy as np\n",
    "from pulp import  *"
   ]
  },
  {
   "cell_type": "code",
   "execution_count": 16,
   "metadata": {
    "collapsed": true
   },
   "outputs": [],
   "source": [
    "prob = LpProblem(name='LP-Sample', sense=LpMaximize )\n",
    "\n",
    "x1 = LpVariable('x1', lowBound=0.0, cat=LpContinuous)\n",
    "x2 = LpVariable('x2', lowBound=0.0, cat=LpContinuous)"
   ]
  },
  {
   "cell_type": "code",
   "execution_count": 17,
   "metadata": {},
   "outputs": [
    {
     "name": "stdout",
     "output_type": "stream",
     "text": [
      "LP-Sample:\n",
      "MAXIMIZE\n",
      "2*x1 + 3*x2 + 0\n",
      "SUBJECT TO\n",
      "ineq1: x1 + 3 x2 <= 9\n",
      "\n",
      "ineq2: x1 + x2 <= 4\n",
      "\n",
      "ineq3: x1 + x2 <= 10\n",
      "\n",
      "VARIABLES\n",
      "x1 Continuous\n",
      "x2 Continuous\n",
      "\n"
     ]
    }
   ],
   "source": [
    "# Objective\n",
    "prob += 2*x1 + 3*x2\n",
    "# Subject to\n",
    "prob += x1 + 3*x2 <= 9, 'ineq1'\n",
    "prob += x1 + x2 <= 4, 'ineq2'\n",
    "prob += x1 + x2 <= 10, 'ineq3'\n",
    "\n",
    "print(prob)"
   ]
  },
  {
   "cell_type": "code",
   "execution_count": 18,
   "metadata": {},
   "outputs": [
    {
     "name": "stdout",
     "output_type": "stream",
     "text": [
      "Optimal\n"
     ]
    }
   ],
   "source": [
    "prob.solve()\n",
    "print(LpStatus[prob.status])"
   ]
  },
  {
   "cell_type": "code",
   "execution_count": 19,
   "metadata": {},
   "outputs": [
    {
     "name": "stdout",
     "output_type": "stream",
     "text": [
      "Optimal value =  10.5\n",
      "x1 = 1.5\n",
      "x2 = 2.5\n"
     ]
    }
   ],
   "source": [
    "print('Optimal value = ', value(prob.objective))\n",
    "for v in prob.variables():\n",
    "    print(v.name, '=', value(v))"
   ]
  },
  {
   "cell_type": "markdown",
   "metadata": {},
   "source": [
    "# P.29 生産計画問題"
   ]
  },
  {
   "cell_type": "code",
   "execution_count": 20,
   "metadata": {
    "collapsed": true
   },
   "outputs": [],
   "source": [
    "A = np.array([[3,1,2], [1,3,0],[0,2,4]])\n",
    "c = np.array([150,200,300])\n",
    "b = np.array([60,36,48])\n",
    "\n",
    "(m,n) = A.shape"
   ]
  },
  {
   "cell_type": "code",
   "execution_count": 23,
   "metadata": {},
   "outputs": [
    {
     "name": "stdout",
     "output_type": "stream",
     "text": [
      "Production:\n",
      "MAXIMIZE\n",
      "150*x1 + 200*x2 + 300*x3 + 0\n",
      "SUBJECT TO\n",
      "ineq1: 3 x1 + x2 + 2 x3 <= 60\n",
      "\n",
      "ineq2: x1 + 3 x2 <= 36\n",
      "\n",
      "ineq3: 2 x2 + 4 x3 <= 48\n",
      "\n",
      "VARIABLES\n",
      "x1 Continuous\n",
      "x2 Continuous\n",
      "x3 Continuous\n",
      "\n"
     ]
    }
   ],
   "source": [
    "prob = LpProblem(name='Production', sense=LpMaximize)\n",
    "\n",
    "x = [LpVariable('x'+str(i+1), lowBound=0) for i in range(n)]\n",
    "\n",
    "prob += lpDot(c,x)\n",
    "\n",
    "for i in range(m):\n",
    "    prob += lpDot(A[i], x) <= b[i], 'ineq'+str(i+1)\n",
    "    \n",
    "print(prob)"
   ]
  },
  {
   "cell_type": "code",
   "execution_count": 27,
   "metadata": {},
   "outputs": [
    {
     "name": "stdout",
     "output_type": "stream",
     "text": [
      "Optimal\n",
      "Optimal value =  5800.0\n",
      "x1 = 12.0\n",
      "x2 = 8.0\n",
      "x3 = 8.0\n"
     ]
    }
   ],
   "source": [
    "prob.solve()\n",
    "print(LpStatus[prob.status])\n",
    "\n",
    "print('Optimal value = ', value(prob.objective))\n",
    "for v in prob.variables():\n",
    "    print(v.name, '=', value(v))"
   ]
  },
  {
   "cell_type": "markdown",
   "metadata": {},
   "source": [
    "# P.35 生産計画問題の双対問題"
   ]
  },
  {
   "cell_type": "code",
   "execution_count": 31,
   "metadata": {},
   "outputs": [
    {
     "name": "stdout",
     "output_type": "stream",
     "text": [
      "Dual_Production:\n",
      "MINIMIZE\n",
      "60*y1 + 36*y2 + 48*y3 + 0\n",
      "SUBJECT TO\n",
      "ineq1: 3 y1 + y2 >= 150\n",
      "\n",
      "ineq2: y1 + 3 y2 + 2 y3 >= 200\n",
      "\n",
      "ineq3: 2 y1 + 4 y3 >= 300\n",
      "\n",
      "VARIABLES\n",
      "y1 Continuous\n",
      "y2 Continuous\n",
      "y3 Continuous\n",
      "\n"
     ]
    }
   ],
   "source": [
    "dual = LpProblem(name='Dual_Production', sense=LpMinimize)\n",
    "\n",
    "y = [LpVariable('y'+str(i+1), lowBound=0) for i in range(m)]\n",
    "\n",
    "dual += lpDot(b,y)\n",
    "\n",
    "for j in range(n):\n",
    "    dual += lpDot(A.T[j], y) >= c[j], 'ineq'+str(j+1)\n",
    "    \n",
    "print(dual)"
   ]
  },
  {
   "cell_type": "code",
   "execution_count": 32,
   "metadata": {},
   "outputs": [
    {
     "name": "stdout",
     "output_type": "stream",
     "text": [
      "Optimal\n",
      "Optimal value =  5799.999996\n",
      "y1 = 44.444444\n",
      "y2 = 16.666667\n",
      "y3 = 52.777778\n"
     ]
    }
   ],
   "source": [
    "dual.solve()\n",
    "print(LpStatus[dual.status])\n",
    "\n",
    "print('Optimal value = ', value(dual.objective))\n",
    "for v in dual.variables():\n",
    "    print(v.name, '=', value(v))"
   ]
  },
  {
   "cell_type": "markdown",
   "metadata": {
    "collapsed": true
   },
   "source": [
    "# P.45 改定シンプレックス法"
   ]
  },
  {
   "cell_type": "code",
   "execution_count": 1,
   "metadata": {
    "collapsed": true
   },
   "outputs": [],
   "source": [
    "import numpy as np\n",
    "import scipy.linalg as linalg\n",
    "MEPS = 1.0e-10 # MachineEqsilon"
   ]
  },
  {
   "cell_type": "code",
   "execution_count": 109,
   "metadata": {
    "collapsed": true
   },
   "outputs": [],
   "source": [
    "def lp_RevisedSimplex(c, A, b, minimize_slack=False, x_ini=None):\n",
    "    \"\"\"\n",
    "    線形計画問題\n",
    "    maximize cx\n",
    "    subject to Ax >= b, x>=0\n",
    "    を改訂シンプレックス法で解く\n",
    "    \"\"\"\n",
    "    \n",
    "    print('c =', c)\n",
    "    print('A =', A)\n",
    "    print('b =', b)\n",
    "    \n",
    "    np.seterr(divide='ignore') # 0除算エラーを無視\n",
    "    (m,n) = A.shape\n",
    "    \n",
    "    # 制約条件式の数だけスラック変数を導入する\n",
    "    AI = np.hstack((A, np.identity(m))) # Aの後ろに単位行列を追加\n",
    "    if minimize_slack:\n",
    "        c0 = np.r_[np.zeros(n), -np.ones(m)]\n",
    "    else:\n",
    "        c0 = np.r_[c, np.zeros(m)] # cの後ろに0ベクトルを追加\n",
    "    \n",
    "    if x_ini is None:\n",
    "        # 初期の基底と非基底のインデックスを決定\n",
    "        basis = [n+i for i in range(m)] # スラック変数分を初期の基底とする\n",
    "        nonbasis = [j for j in range(n)] # それ以外を初期の非基底とする（x_j=0とする）\n",
    "    else:\n",
    "        # 初期の基底と非基底のインデックスを決定\n",
    "        basis = [i for i in range(len(x_ini)) if x_ini[i] != 0]\n",
    "        nonbasis = [j for j in range(m+n) if j not in basis] # それ以外を初期の非基底とする（x_j=0とする）\n",
    "        \n",
    "    print(basis)\n",
    "    print(nonbasis)\n",
    "    \n",
    "    # 最適性が満たされるか、有界な解がないことがわかるまでループ\n",
    "    while True:\n",
    "        # シンプレックス乗数\n",
    "        y = linalg.solve(AI[:,basis].T, c0[basis])\n",
    "        # 相対コスト係数\n",
    "        cc = c0[nonbasis] - np.dot(y, AI[:,nonbasis])\n",
    "        \n",
    "        # 相対コスト係数ccの要素に0より大きな値cc_kが含まれている場合、\n",
    "        # 非規定変数x_kを基底変数x_i>=0が満たす限り大きくすることで\n",
    "        # 目的関数を大きくすることができる\n",
    "        # すなわち、その暫定解は最適解ではない(より良い解がある)ので、\n",
    "        # ピボット操作（凸多面体の隣の頂点に基底解を移動）をして探索を続ける\n",
    "        if np.all(cc <= MEPS):\n",
    "            # 暫定解が最適解（最適性判定）\n",
    "            x = np.zeros(n+m)\n",
    "            # 現在の非基底変数は0が最適値なので、残りの変数は連立方程式を解いて決定できる\n",
    "            x[basis] = linalg.solve(AI[:,basis], b)\n",
    "            \n",
    "            print('Optimal')\n",
    "            obj = np.dot(c0[basis], x[basis])\n",
    "            print('Objective = ', obj)\n",
    "            for i in range(len(x)):\n",
    "                print('x', i, '=', x[i])\n",
    "            return obj, x[:n]\n",
    "        \n",
    "        # 相対コスト係数が最大の非基底インデックスsを選択\n",
    "        s = np.argmax(cc)\n",
    "        # 非規定変数x_sを動かせる範囲を特定する\n",
    "        d = linalg.solve(AI[:,basis], AI[:,nonbasis[s]])\n",
    "        if np.all(d <= MEPS):\n",
    "            # 非有界性判定:x_sをいくらでも大きくできる\n",
    "            print('Unbounded')\n",
    "            return None, None\n",
    "        else:\n",
    "            bb = linalg.solve(AI[:,basis], b)\n",
    "            ratio = bb/d\n",
    "            ratio[ratio < -MEPS] = np.inf # 比率が0以下のインデックスは基底にしない\n",
    "            r = np.argmin(ratio)\n",
    "            # 基底と非基底の入れ替え\n",
    "            print('Pivot:', basis[r],'<=>', nonbasis[s])\n",
    "            nonbasis[s], basis[r] = basis[r], nonbasis[s]"
   ]
  },
  {
   "cell_type": "code",
   "execution_count": 110,
   "metadata": {},
   "outputs": [
    {
     "name": "stdout",
     "output_type": "stream",
     "text": [
      "c = [4 3 5]\n",
      "A = [[ 2  2 -1]\n",
      " [ 2 -2  3]\n",
      " [ 0  2 -1]]\n",
      "b = [6 8 4]\n",
      "[3, 4, 5]\n",
      "[0, 1, 2]\n",
      "Pivot: 4 <=> 2\n",
      "Pivot: 5 <=> 1\n",
      "Optimal\n",
      "Objective =  45.0\n",
      "x 0 = 0.0\n",
      "x 1 = 4.999999999999999\n",
      "x 2 = 6.0\n",
      "x 3 = 2.0000000000000018\n",
      "x 4 = 0.0\n",
      "x 5 = 0.0\n"
     ]
    },
    {
     "data": {
      "text/plain": [
       "(45.0, array([0., 5., 6.]))"
      ]
     },
     "execution_count": 110,
     "metadata": {},
     "output_type": "execute_result"
    }
   ],
   "source": [
    "A = np.array([[2,2,-1], [2,-2,3],[0,2,-1]])\n",
    "c = np.array([4,3,5])\n",
    "b = np.array([6,8,4])\n",
    "\n",
    "lp_RevisedSimplex(c, A, b)"
   ]
  },
  {
   "cell_type": "markdown",
   "metadata": {},
   "source": [
    "# 2段階シンプレックス法\n",
    "初期基底解が自明に見つからないとき"
   ]
  },
  {
   "cell_type": "code",
   "execution_count": 111,
   "metadata": {
    "collapsed": true
   },
   "outputs": [],
   "source": [
    "c = np.array([2,1,1])\n",
    "A = np.array([[1,2,0], [1,4,2]])\n",
    "b = np.array([12,20])"
   ]
  },
  {
   "cell_type": "code",
   "execution_count": 117,
   "metadata": {},
   "outputs": [
    {
     "name": "stdout",
     "output_type": "stream",
     "text": [
      "c = [2 1 1]\n",
      "A = [[1 2 0]\n",
      " [1 4 2]]\n",
      "b = [12 20]\n",
      "[3, 4]\n",
      "[0, 1, 2]\n",
      "Pivot: 4 <=> 1\n",
      "Pivot: 3 <=> 0\n",
      "Optimal\n",
      "Objective =  0.0\n",
      "x 0 = 4.0\n",
      "x 1 = 4.0\n",
      "x 2 = 0.0\n",
      "x 3 = 0.0\n",
      "x 4 = 0.0\n"
     ]
    }
   ],
   "source": [
    "# [1]スラック変数の和が最小になるようにx_iniを求める（=元の問題の実行可能解）\n",
    "obj, x_ini = lp_RevisedSimplex(c, A, b, minimize_slack=True)"
   ]
  },
  {
   "cell_type": "code",
   "execution_count": 118,
   "metadata": {},
   "outputs": [
    {
     "name": "stdout",
     "output_type": "stream",
     "text": [
      "c = [2 1 1]\n",
      "A = [[1 2 0]\n",
      " [1 4 2]]\n",
      "b = [12 20]\n",
      "[0, 1]\n",
      "[2, 3, 4]\n",
      "Pivot: 1 <=> 2\n",
      "Optimal\n",
      "Objective =  28.0\n",
      "x 0 = 12.0\n",
      "x 1 = 0.0\n",
      "x 2 = 4.0\n",
      "x 3 = 0.0\n",
      "x 4 = 0.0\n"
     ]
    },
    {
     "data": {
      "text/plain": [
       "(28.0, array([12.,  0.,  4.]))"
      ]
     },
     "execution_count": 118,
     "metadata": {},
     "output_type": "execute_result"
    }
   ],
   "source": [
    "# [2]x_iniを初期解としてシンプレックス法を解く\n",
    "lp_RevisedSimplex(c, A, b, x_ini=x_ini)"
   ]
  },
  {
   "cell_type": "code",
   "execution_count": 120,
   "metadata": {},
   "outputs": [
    {
     "data": {
      "text/plain": [
       "array([[12],\n",
       "       [20]])"
      ]
     },
     "execution_count": 120,
     "metadata": {},
     "output_type": "execute_result"
    }
   ],
   "source": [
    "b.reshape(m,1)"
   ]
  },
  {
   "cell_type": "markdown",
   "metadata": {},
   "source": [
    "# P.58 内点法：主双対パス追跡法"
   ]
  },
  {
   "cell_type": "code",
   "execution_count": 130,
   "metadata": {
    "collapsed": true
   },
   "outputs": [],
   "source": [
    "def make_Mq_from_cAb(c,A,b):\n",
    "    \"\"\"\n",
    "    線形計画問題\n",
    "    maximize cx\n",
    "    subject to Ax >= b, x >= 0\n",
    "    を\n",
    "    歪対称行列Mと非負ベクトルqの最適化問題\n",
    "    minimize (z^T)x\n",
    "    subject to Mx + q = z, x >= 0, z >= 0\n",
    "    (M = -M^T, q >= 0)\n",
    "    に変換する\n",
    "    \"\"\"\n",
    "    m,k = A.shape\n",
    "    \n",
    "    m1 = np.hstack((np.zeros((m,m)), -A, b.reshape(m,-1)))\n",
    "    m2 = np.hstack((A.T, np.zeros((k,k)), -c.reshape(k,-1)))\n",
    "    m3 = np.append(np.append(-b,c),0)\n",
    "    \n",
    "    M = np.vstack((m1,m2,m3))\n",
    "    q = np.zeros(m+k+1)\n",
    "    \n",
    "    return M,q"
   ]
  },
  {
   "cell_type": "code",
   "execution_count": 132,
   "metadata": {
    "collapsed": true
   },
   "outputs": [],
   "source": [
    "def make_art_prob_initial_point(M,q):\n",
    "    \"\"\"\n",
    "    初期解xx0,zz0を持つ人工問題MM,qqを作成する\n",
    "    \"\"\"\n",
    "    n,m = M.shape\n",
    "    \n",
    "    x0 = np.ones(n)\n",
    "    mu0 = np.dot(q,x0)/(n+1) + 1\n",
    "    z0 = mu0/x0\n",
    "    \n",
    "    r = z0 - np.dot(M,x0) - q\n",
    "    qn1 = (n+1)*mu0\n",
    "    \n",
    "    MM = np.hstack((M,r.reshape((-1,1))))\n",
    "    MM = np.vstack((MM,np.append(-r,0)))\n",
    "    \n",
    "    qq = np.append(q,qn1)\n",
    "    \n",
    "    xx0 = np.append(x0, 1)\n",
    "    zz0 = np.append(z0, mu0)\n",
    "    \n",
    "    return MM, qq, xx0, zz0"
   ]
  },
  {
   "cell_type": "code",
   "execution_count": 134,
   "metadata": {},
   "outputs": [
    {
     "name": "stdout",
     "output_type": "stream",
     "text": [
      "M= [[  0.   0.  -1.  -2.   0.  12.]\n",
      " [  0.   0.  -1.  -4.  -2.  20.]\n",
      " [  1.   1.   0.   0.   0.  -2.]\n",
      " [  2.   4.   0.   0.   0.  -1.]\n",
      " [  0.   2.   0.   0.   0.  -1.]\n",
      " [-12. -20.   2.   1.   1.   0.]]\n",
      "q= [0. 0. 0. 0. 0. 0.]\n"
     ]
    }
   ],
   "source": [
    "M,q = make_Mq_from_cAb(c,A,b)\n",
    "print('M=', M)\n",
    "print('q=', q)"
   ]
  },
  {
   "cell_type": "code",
   "execution_count": 135,
   "metadata": {},
   "outputs": [
    {
     "data": {
      "text/plain": [
       "(array([[  0.,   0.,  -1.,  -2.,   0.,  12.,  -8.],\n",
       "        [  0.,   0.,  -1.,  -4.,  -2.,  20., -12.],\n",
       "        [  1.,   1.,   0.,   0.,   0.,  -2.,   1.],\n",
       "        [  2.,   4.,   0.,   0.,   0.,  -1.,  -4.],\n",
       "        [  0.,   2.,   0.,   0.,   0.,  -1.,   0.],\n",
       "        [-12., -20.,   2.,   1.,   1.,   0.,  29.],\n",
       "        [  8.,  12.,  -1.,   4.,  -0., -29.,   0.]]),\n",
       " array([0., 0., 0., 0., 0., 0., 7.]),\n",
       " array([1., 1., 1., 1., 1., 1., 1.]),\n",
       " array([1., 1., 1., 1., 1., 1., 1.]))"
      ]
     },
     "execution_count": 135,
     "metadata": {},
     "output_type": "execute_result"
    }
   ],
   "source": [
    "make_art_prob_initial_point(M,q)"
   ]
  },
  {
   "cell_type": "code",
   "execution_count": 148,
   "metadata": {
    "collapsed": true
   },
   "outputs": [],
   "source": [
    "def PrimalDualPathFollowing(c, A, b):\n",
    "    \"\"\"\n",
    "    線形計画問題\n",
    "    maximize cx\n",
    "    subject to Ax >= b, x>=0\n",
    "    を内点法：主双対パス追跡法を用いて解く\n",
    "    \"\"\"\n",
    "    MEPS = 1.0e-10 # MachineEpsilon\n",
    "    \n",
    "    # 問題を変換\n",
    "    M0,q0 = make_Mq_from_cAb(c,A,b)\n",
    "    M, q, x, z = make_art_prob_initial_point(M0,q0)\n",
    "    m,k = A.shape\n",
    "    n = M.shape[0]\n",
    "    \n",
    "    # M,qの最適化問題は最適値が0であることがわかっているので、\n",
    "    # 目的関数muが十分0に近づくまでxとzを更新する\n",
    "    count = 0\n",
    "    mu = np.dot(z,x)/n\n",
    "    print('Initnal Objective = ', mu)\n",
    "    \n",
    "    while mu > MEPS:\n",
    "        count += 1\n",
    "        print('count=', count, end=' ')\n",
    "        \n",
    "        # 予測ステップ\n",
    "        x, z, mu, th = update_x_and_z(M, x, z, mu, delta=0)\n",
    "        print('theta =', th, end=', ')\n",
    "        \n",
    "        # 修正ステップ\n",
    "        x, z, mu, th = update_x_and_z(M, x, z, mu, delta=1)\n",
    "        print('Objective =', mu)\n",
    "\n",
    "    if x[n-2] > MEPS:\n",
    "        x_opt = x[m:m+k]/x[n-2]\n",
    "        x_opt_dual = x[:m]/x[n-2]\n",
    "        print('Optimal solution:', x_opt, 'has been found')\n",
    "        print('Optimal value = ', np.dot(c, x_opt))\n",
    "        \n",
    "        print('Optimal solution (Dual):', x_opt_dual)\n",
    "        print('Optimal value = ', np.dot(b, x_opt_dual))\n",
    "    else:\n",
    "        print('Error finish')\n",
    "        \n",
    "def update_x_and_z(M, x, z, mu, delta):\n",
    "    \"\"\"\n",
    "    delta=0のとき、予測ステップ (thをbinary_search_thetaで決定)\n",
    "    delta=1のとき、修正ステップ (th=1)\n",
    "    として、\n",
    "    \"\"\"\n",
    "    \n",
    "    invMzx = np.linalg.inv(M+np.diag(z/x))\n",
    "    dx = np.dot(invMzx, delta*mu*(1/x)-z)        \n",
    "    dz = delta*mu*(1/x)-z-np.dot(np.diag(1/x), z*dx)\n",
    "    \n",
    "    if delta == 0:\n",
    "        # 予測ステップ\n",
    "        th = binary_search_theta(x,z,dx,dz,beta=0.5,precision=0.001)\n",
    "    else:\n",
    "        th = 1\n",
    "    \n",
    "    # 更新\n",
    "    x_new = x + th*dx\n",
    "    z_new = z + th*dz\n",
    "    mu_new = np.dot(z_new,x_new)/n\n",
    "    \n",
    "    return x_new, z_new, mu_new, th"
   ]
  },
  {
   "cell_type": "code",
   "execution_count": 149,
   "metadata": {
    "collapsed": true
   },
   "outputs": [],
   "source": [
    "def binary_search_theta(x,z,dx,dz,beta=0.5,precision=0.001):   \n",
    "    \"\"\"\n",
    "    予備ステップでのステップサイズを決定する\n",
    "    \"\"\"\n",
    "    n = np.alen(x) # 第1次元の要素数を取得\n",
    "    \n",
    "    th_low = 0.0\n",
    "    th_high = 1.0\n",
    "    \n",
    "    rate_dx = -x[dx<0]/dx[dx<0]\n",
    "    rate_dz = -z[dz<0]/dz[dz<0]\n",
    "\n",
    "    if np.alen(rate_dx) > 0:\n",
    "        th_high = np.min([th_high, np.min(rate_dx)])\n",
    "    if np.alen(rate_dz) > 0:\n",
    "        th_high = np.min([th_high, np.min(rate_dz)])\n",
    "        \n",
    "    x_low = x + th_low * dx\n",
    "    z_low = z + th_low * dz\n",
    "    x_high = x + th_high * dx\n",
    "    z_high = z + th_high * dz\n",
    "    \n",
    "    mu_high = np.dot(x_high, z_high)/n\n",
    "    \n",
    "    norm_high = np.linalg.norm(x_high*z_high - mu_high*np.ones(n))\n",
    "    if beta*mu_high >= norm_high:\n",
    "        return th_high\n",
    "    \n",
    "    # 二分法\n",
    "    while th_high - th_low > precision:\n",
    "        th_mid = (th_high + th_low)/2\n",
    "        x_mid = x + th_mid * dx\n",
    "        z_mid = z + th_mid * dz\n",
    "        mu_mid = np.dot(x_mid, z_mid)/n\n",
    "        \n",
    "        norm_mid = np.linalg.norm(x_mid*z_mid - mu_mid*np.ones(n))\n",
    "        if beta*mu_mid >= norm_mid:\n",
    "            th_low = th_high\n",
    "        else:\n",
    "            th_high = th_mid\n",
    "    \n",
    "    return th_low"
   ]
  },
  {
   "cell_type": "code",
   "execution_count": 150,
   "metadata": {},
   "outputs": [
    {
     "name": "stdout",
     "output_type": "stream",
     "text": [
      "Initnal Objective =  1.0\n",
      "count= 1 theta = 0.7412090118411879, Objective = 1.8402914713515501\n",
      "count= 2 theta = 0.6719965901090196, Objective = 1.6096583407909255\n",
      "count= 3 theta = 0.666790684338057, Objective = 1.4302750778252864\n",
      "count= 4 theta = 0.6592185567032179, Objective = 1.2997632142205855\n",
      "count= 5 theta = 0.6661479116179814, Objective = 1.1571431025857712\n",
      "count= 6 theta = 0.6697466194266448, Objective = 1.0190677904962453\n",
      "count= 7 theta = 0.6864412193113675, Objective = 0.8521004102054959\n",
      "count= 8 theta = 0.7052736120174525, Objective = 0.6696972695954994\n",
      "count= 9 theta = 0.7450580707402794, Objective = 0.45529043714838185\n",
      "count= 10 theta = 0.7964162395665462, Objective = 0.24717263809082277\n",
      "count= 11 theta = 0.866193945293607, Objective = 0.0881951880914776\n",
      "count= 12 theta = 0.9290733246633003, Objective = 0.016681043925395687\n",
      "count= 13 theta = 0.9798073899692071, Objective = 0.0008982235063787784\n",
      "count= 14 theta = 0.9987320493339944, Objective = 3.03707491502636e-06\n",
      "count= 15 theta = 0.9999956674942861, Objective = 3.5088385127870985e-11\n",
      "Optimal solution: [12.  8.  8.] has been found\n",
      "Optimal value =  5799.999998631012\n",
      "Optimal solution (Dual): [44.44444443 16.66666666 52.77777776]\n",
      "Optimal value =  5799.999998489901\n"
     ]
    }
   ],
   "source": [
    "c = np.array([150,200,300])\n",
    "A = np.array([[3,1,2], [1,3,0], [0,2,4]])\n",
    "b = np.array([60,36,48])\n",
    "\n",
    "PrimalDualPathFollowing(c, A, b)"
   ]
  },
  {
   "cell_type": "markdown",
   "metadata": {},
   "source": [
    "#  応用問題"
   ]
  },
  {
   "cell_type": "markdown",
   "metadata": {},
   "source": [
    "# クラス編成最適化"
   ]
  },
  {
   "cell_type": "code",
   "execution_count": 11,
   "metadata": {
    "collapsed": true
   },
   "outputs": [],
   "source": [
    "import numpy as np\n",
    "import random\n",
    "import pandas as pd\n",
    "\n",
    "from pulp import *\n",
    "from itertools import product"
   ]
  },
  {
   "cell_type": "code",
   "execution_count": null,
   "metadata": {
    "collapsed": true
   },
   "outputs": [],
   "source": []
  },
  {
   "cell_type": "code",
   "execution_count": null,
   "metadata": {
    "collapsed": true
   },
   "outputs": [],
   "source": []
  },
  {
   "cell_type": "code",
   "execution_count": 40,
   "metadata": {
    "collapsed": true
   },
   "outputs": [],
   "source": [
    "def make_class_priority_data(n_student, n_class, n_select, seed=None):\n",
    "    \"\"\"\n",
    "    実験データの作成\n",
    "    \"\"\"\n",
    "    np.random.seed(seed)\n",
    "    data = np.zeros((n_student, n_class))\n",
    "\n",
    "    for i in range(n_student):\n",
    "        cls_idxs = np.random.choice(range(n_class), n_select, replace=False)\n",
    "\n",
    "        for priority, cls_idx in enumerate(cls_idxs):\n",
    "            data[i,cls_idx] = priority+1\n",
    "\n",
    "    df = pd.DataFrame(data)\n",
    "    df = df.astype('int')\n",
    "    df.index = ['S' + \"{0:02d}\".format(i+1) for i in range(n_student)]\n",
    "    df.columns = ['C' + \"{0:02d}\".format(j+1) for j in range(n_class)]\n",
    "    \n",
    "    return df"
   ]
  },
  {
   "cell_type": "code",
   "execution_count": 41,
   "metadata": {},
   "outputs": [
    {
     "data": {
      "text/plain": [
       "C01    48\n",
       "C02    50\n",
       "C03    58\n",
       "C04    41\n",
       "C05    46\n",
       "C06    55\n",
       "C07    53\n",
       "C08    52\n",
       "C09    65\n",
       "C10    52\n",
       "C11    61\n",
       "C12    58\n",
       "C13    76\n",
       "C14    68\n",
       "C15    58\n",
       "C16    59\n",
       "dtype: int64"
      ]
     },
     "execution_count": 41,
     "metadata": {},
     "output_type": "execute_result"
    }
   ],
   "source": [
    "df = make_class_priority_data(n_student=90, n_class=16, n_select=4, seed=0)\n",
    "df.sum()"
   ]
  },
  {
   "cell_type": "code",
   "execution_count": null,
   "metadata": {
    "collapsed": true,
    "scrolled": true
   },
   "outputs": [],
   "source": []
  },
  {
   "cell_type": "code",
   "execution_count": 56,
   "metadata": {
    "collapsed": true
   },
   "outputs": [],
   "source": [
    "def solve_class_assignment(df):\n",
    "    MEPS = 10e-6\n",
    "\n",
    "    n, m = df.shape\n",
    "    lb = np.floor(n/m)\n",
    "    ub = np.ceil(n/m)\n",
    "\n",
    "    # 満足度(希望順位:点数)\n",
    "    score = {1:100, 2:50, 3:20, 4:0}\n",
    "    ngscore = -10000 # 希望外\n",
    "\n",
    "    # 最適化問題のモデル化\n",
    "    prob = LpProblem('ClassAssignment', sense=LpMaximize)\n",
    "\n",
    "    # 設計変数と各スコアを計算\n",
    "    x = {}\n",
    "    p = {}\n",
    "\n",
    "    for idx, col in product(df.index, df.columns):\n",
    "        x[idx,col] = LpVariable('x(' + str(idx) + ',' + str(col)+')', lowBound=0)\n",
    "\n",
    "        priority = df.loc[idx,col]\n",
    "        p[idx,col] = score[priority] if priority > MEPS else ngscore\n",
    "\n",
    "    # 目的関数\n",
    "    prob += lpSum(p[i,j] * x[i,j] for i,j in product(df.index, df.columns))\n",
    "\n",
    "    # 制約条件\n",
    "    # 生徒1人につき割り当てるクラスは1つだけ\n",
    "    for i in df.index:\n",
    "        prob += lpSum(x[i,j] for j in df.columns) == 1\n",
    "    # クラスの人数は5~6人\n",
    "    for j in df.columns:\n",
    "        prob += lpSum(x[i,j] for i in df.index) >= lb\n",
    "        prob += lpSum(x[i,j] for i in df.index) <= ub\n",
    "\n",
    "    # 実行\n",
    "    print(LpStatus[prob.solve()])\n",
    "    print('満足度の合計', value(prob.objective))\n",
    "    print('生徒一人あたりの平均満足度', value(prob.objective)/n)"
   ]
  },
  {
   "cell_type": "code",
   "execution_count": 57,
   "metadata": {},
   "outputs": [
    {
     "name": "stdout",
     "output_type": "stream",
     "text": [
      "Optimal\n",
      "満足度の合計 8470.00000000872\n",
      "生徒一人あたりの平均満足度 94.111111111208\n"
     ]
    }
   ],
   "source": [
    "solve_class_assignment(df)"
   ]
  },
  {
   "cell_type": "markdown",
   "metadata": {},
   "source": [
    "# DEA 包絡分析法"
   ]
  },
  {
   "cell_type": "code",
   "execution_count": 69,
   "metadata": {
    "collapsed": true
   },
   "outputs": [],
   "source": [
    "X =  np.array([\n",
    "    [ 321.774,14682.739],\n",
    "    [1376.049, 5320.232],\n",
    "    [  64.716, 2676.520],\n",
    "    [ 143.457,  999.832],\n",
    "    [  80.689, 3226.726],\n",
    "    [  64.395, 2361.317],\n",
    "    [ 126.573, 4780.944],\n",
    "    [  23.969,  975.012],\n",
    "    [  59.798, 1745.045],\n",
    "    [  35.940, 1359.773]\n",
    "]).T\n",
    "\n",
    "Y =  np.array([\n",
    "    [46,37,38],\n",
    "    [26,18,26],\n",
    "    [27,23,17],\n",
    "    [19,18,19],\n",
    "    [17,10,15],\n",
    "    [10,18,14],\n",
    "    [12, 8,21],\n",
    "    [ 8,11,10],\n",
    "    [ 8,12, 8],\n",
    "    [ 4, 3,15]\n",
    "]).T\n",
    "\n",
    "DMUs = np.array(\n",
    "    ['アメリカ','中国','イギリス','ロシア','ドイツ',\n",
    "     'フランス','日本','オーストラリア','イタリア','カナダ']\n",
    ")"
   ]
  },
  {
   "cell_type": "code",
   "execution_count": 72,
   "metadata": {
    "collapsed": true
   },
   "outputs": [],
   "source": [
    "def solve_dea_ccr(X, Y, DMUs):\n",
    "    MEPS = 10e-6\n",
    "\n",
    "    m,n = X.shape\n",
    "    s,n = Y.shape\n",
    "\n",
    "    res = []\n",
    "    for k in range(n):\n",
    "        prob = LpProblem('DMU_'+str(k), LpMaximize)\n",
    "        # Xに対する重み\n",
    "        v = [LpVariable('v'+str(i), lowBound=0, cat=LpContinuous) for i in range(m)]\n",
    "        # Yに対する重み\n",
    "        u = [LpVariable('u'+str(i), lowBound=0, cat=LpContinuous) for i in range(s)]\n",
    "\n",
    "        # 目的関数\n",
    "        prob += lpDot(u, Y[:,k])\n",
    "\n",
    "        # 制約条件\n",
    "        prob += lpDot(v, X[:,k]) == 1, 'Normalize'+str(k)\n",
    "        for j in range(n):\n",
    "            prob += lpDot(u, Y[:,j]) <= lpDot(v, X[:,j])\n",
    "\n",
    "        prob.solve()\n",
    "\n",
    "        vs = np.array([v[i].varValue for i in range(m)]) # v*\n",
    "        us = np.array([u[i].varValue for i in range(s)]) # u*\n",
    "\n",
    "        # 参照集合の作成(アクティブな制約条件式を取り出す)\n",
    "        (ek,) = np.where(np.abs(np.dot(vs,X) - np.dot(us,Y)) <= MEPS)\n",
    "        ek_DMUs = [DMUs[i] for i in ek]\n",
    "        \n",
    "        res.append([DMUs[k], value(prob.objective), set(ek_DMUs), tuple(vs), tuple(us)])\n",
    "        \n",
    "    return res"
   ]
  },
  {
   "cell_type": "code",
   "execution_count": 73,
   "metadata": {
    "collapsed": true
   },
   "outputs": [],
   "source": [
    "res = solve_dea_ccr(X, Y, DMUs)\n",
    "\n",
    "df = pd.DataFrame(res, columns=['DMU', '効率値', '参照集合', 'vs', 'us'])"
   ]
  },
  {
   "cell_type": "code",
   "execution_count": 74,
   "metadata": {},
   "outputs": [
    {
     "data": {
      "text/html": [
       "<div>\n",
       "<style>\n",
       "    .dataframe thead tr:only-child th {\n",
       "        text-align: right;\n",
       "    }\n",
       "\n",
       "    .dataframe thead th {\n",
       "        text-align: left;\n",
       "    }\n",
       "\n",
       "    .dataframe tbody tr th {\n",
       "        vertical-align: top;\n",
       "    }\n",
       "</style>\n",
       "<table border=\"1\" class=\"dataframe\">\n",
       "  <thead>\n",
       "    <tr style=\"text-align: right;\">\n",
       "      <th></th>\n",
       "      <th>DMU</th>\n",
       "      <th>効率値</th>\n",
       "      <th>参照集合</th>\n",
       "      <th>vs</th>\n",
       "      <th>us</th>\n",
       "    </tr>\n",
       "  </thead>\n",
       "  <tbody>\n",
       "    <tr>\n",
       "      <th>0</th>\n",
       "      <td>アメリカ</td>\n",
       "      <td>0.369781</td>\n",
       "      <td>{イギリス, オーストラリア}</td>\n",
       "      <td>(0.0031077713, 0.0)</td>\n",
       "      <td>(0.0055588983, 0.0, 0.0030018983)</td>\n",
       "    </tr>\n",
       "    <tr>\n",
       "      <th>1</th>\n",
       "      <td>中国</td>\n",
       "      <td>0.257168</td>\n",
       "      <td>{ロシア}</td>\n",
       "      <td>(0.0, 0.00018796173)</td>\n",
       "      <td>(0.0, 0.0, 0.0098910605)</td>\n",
       "    </tr>\n",
       "    <tr>\n",
       "      <th>2</th>\n",
       "      <td>イギリス</td>\n",
       "      <td>1.000000</td>\n",
       "      <td>{イギリス, オーストラリア}</td>\n",
       "      <td>(0.015452129, 0.0)</td>\n",
       "      <td>(0.027639362, 0.0, 0.014925719)</td>\n",
       "    </tr>\n",
       "    <tr>\n",
       "      <th>3</th>\n",
       "      <td>ロシア</td>\n",
       "      <td>1.000000</td>\n",
       "      <td>{ロシア}</td>\n",
       "      <td>(0.0, 0.001000168)</td>\n",
       "      <td>(0.0, 0.0, 0.052631579)</td>\n",
       "    </tr>\n",
       "    <tr>\n",
       "      <th>4</th>\n",
       "      <td>ドイツ</td>\n",
       "      <td>0.567588</td>\n",
       "      <td>{イギリス, ロシア, オーストラリア}</td>\n",
       "      <td>(0.0029566373, 0.00023597662)</td>\n",
       "      <td>(0.023233346, 0.0, 0.011508091)</td>\n",
       "    </tr>\n",
       "    <tr>\n",
       "      <th>5</th>\n",
       "      <td>フランス</td>\n",
       "      <td>0.666694</td>\n",
       "      <td>{ロシア, オーストラリア}</td>\n",
       "      <td>(0.0020937321, 0.00036639474)</td>\n",
       "      <td>(0.0, 0.037038539, 0.0)</td>\n",
       "    </tr>\n",
       "    <tr>\n",
       "      <th>6</th>\n",
       "      <td>日本</td>\n",
       "      <td>0.411892</td>\n",
       "      <td>{カナダ, ロシア, オーストラリア}</td>\n",
       "      <td>(0.0015484154, 0.00016817022)</td>\n",
       "      <td>(0.0021624441, 0.0, 0.01837824)</td>\n",
       "    </tr>\n",
       "    <tr>\n",
       "      <th>7</th>\n",
       "      <td>オーストラリア</td>\n",
       "      <td>1.000000</td>\n",
       "      <td>{カナダ, ロシア, オーストラリア}</td>\n",
       "      <td>(0.0077004196, 0.00083632678)</td>\n",
       "      <td>(0.010754044, 0.0, 0.091396765)</td>\n",
       "    </tr>\n",
       "    <tr>\n",
       "      <th>8</th>\n",
       "      <td>イタリア</td>\n",
       "      <td>0.581319</td>\n",
       "      <td>{ロシア, オーストラリア}</td>\n",
       "      <td>(0.0027384214, 0.00047921279)</td>\n",
       "      <td>(0.0, 0.048443222, 0.0)</td>\n",
       "    </tr>\n",
       "    <tr>\n",
       "      <th>9</th>\n",
       "      <td>カナダ</td>\n",
       "      <td>1.000000</td>\n",
       "      <td>{カナダ, ロシア, オーストラリア}</td>\n",
       "      <td>(0.005095832, 0.00060072953)</td>\n",
       "      <td>(0.0, 0.0045770926, 0.065751248)</td>\n",
       "    </tr>\n",
       "  </tbody>\n",
       "</table>\n",
       "</div>"
      ],
      "text/plain": [
       "       DMU       効率値                  参照集合                             vs  \\\n",
       "0     アメリカ  0.369781       {イギリス, オーストラリア}            (0.0031077713, 0.0)   \n",
       "1       中国  0.257168                 {ロシア}           (0.0, 0.00018796173)   \n",
       "2     イギリス  1.000000       {イギリス, オーストラリア}             (0.015452129, 0.0)   \n",
       "3      ロシア  1.000000                 {ロシア}             (0.0, 0.001000168)   \n",
       "4      ドイツ  0.567588  {イギリス, ロシア, オーストラリア}  (0.0029566373, 0.00023597662)   \n",
       "5     フランス  0.666694        {ロシア, オーストラリア}  (0.0020937321, 0.00036639474)   \n",
       "6       日本  0.411892   {カナダ, ロシア, オーストラリア}  (0.0015484154, 0.00016817022)   \n",
       "7  オーストラリア  1.000000   {カナダ, ロシア, オーストラリア}  (0.0077004196, 0.00083632678)   \n",
       "8     イタリア  0.581319        {ロシア, オーストラリア}  (0.0027384214, 0.00047921279)   \n",
       "9      カナダ  1.000000   {カナダ, ロシア, オーストラリア}   (0.005095832, 0.00060072953)   \n",
       "\n",
       "                                  us  \n",
       "0  (0.0055588983, 0.0, 0.0030018983)  \n",
       "1           (0.0, 0.0, 0.0098910605)  \n",
       "2    (0.027639362, 0.0, 0.014925719)  \n",
       "3            (0.0, 0.0, 0.052631579)  \n",
       "4    (0.023233346, 0.0, 0.011508091)  \n",
       "5            (0.0, 0.037038539, 0.0)  \n",
       "6    (0.0021624441, 0.0, 0.01837824)  \n",
       "7    (0.010754044, 0.0, 0.091396765)  \n",
       "8            (0.0, 0.048443222, 0.0)  \n",
       "9   (0.0, 0.0045770926, 0.065751248)  "
      ]
     },
     "execution_count": 74,
     "metadata": {},
     "output_type": "execute_result"
    }
   ],
   "source": [
    "df"
   ]
  },
  {
   "cell_type": "code",
   "execution_count": null,
   "metadata": {
    "collapsed": true
   },
   "outputs": [],
   "source": []
  }
 ],
 "metadata": {
  "kernelspec": {
   "display_name": "Python 3",
   "language": "python",
   "name": "python3"
  },
  "language_info": {
   "codemirror_mode": {
    "name": "ipython",
    "version": 3
   },
   "file_extension": ".py",
   "mimetype": "text/x-python",
   "name": "python",
   "nbconvert_exporter": "python",
   "pygments_lexer": "ipython3",
   "version": "3.5.4"
  }
 },
 "nbformat": 4,
 "nbformat_minor": 2
}
