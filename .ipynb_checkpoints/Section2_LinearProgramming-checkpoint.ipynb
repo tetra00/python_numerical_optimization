{
 "cells": [
  {
   "cell_type": "markdown",
   "metadata": {},
   "source": [
    "# P.28 例題"
   ]
  },
  {
   "cell_type": "code",
   "execution_count": 8,
   "metadata": {
    "collapsed": true
   },
   "outputs": [],
   "source": [
    "import numpy as np\n",
    "from pulp import  *"
   ]
  },
  {
   "cell_type": "code",
   "execution_count": 16,
   "metadata": {
    "collapsed": true
   },
   "outputs": [],
   "source": [
    "prob = LpProblem(name='LP-Sample', sense=LpMaximize )\n",
    "\n",
    "x1 = LpVariable('x1', lowBound=0.0, cat=LpContinuous)\n",
    "x2 = LpVariable('x2', lowBound=0.0, cat=LpContinuous)"
   ]
  },
  {
   "cell_type": "code",
   "execution_count": 17,
   "metadata": {},
   "outputs": [
    {
     "name": "stdout",
     "output_type": "stream",
     "text": [
      "LP-Sample:\n",
      "MAXIMIZE\n",
      "2*x1 + 3*x2 + 0\n",
      "SUBJECT TO\n",
      "ineq1: x1 + 3 x2 <= 9\n",
      "\n",
      "ineq2: x1 + x2 <= 4\n",
      "\n",
      "ineq3: x1 + x2 <= 10\n",
      "\n",
      "VARIABLES\n",
      "x1 Continuous\n",
      "x2 Continuous\n",
      "\n"
     ]
    }
   ],
   "source": [
    "# Objective\n",
    "prob += 2*x1 + 3*x2\n",
    "# Subject to\n",
    "prob += x1 + 3*x2 <= 9, 'ineq1'\n",
    "prob += x1 + x2 <= 4, 'ineq2'\n",
    "prob += x1 + x2 <= 10, 'ineq3'\n",
    "\n",
    "print(prob)"
   ]
  },
  {
   "cell_type": "code",
   "execution_count": 18,
   "metadata": {},
   "outputs": [
    {
     "name": "stdout",
     "output_type": "stream",
     "text": [
      "Optimal\n"
     ]
    }
   ],
   "source": [
    "prob.solve()\n",
    "print(LpStatus[prob.status])"
   ]
  },
  {
   "cell_type": "code",
   "execution_count": 19,
   "metadata": {},
   "outputs": [
    {
     "name": "stdout",
     "output_type": "stream",
     "text": [
      "Optimal value =  10.5\n",
      "x1 = 1.5\n",
      "x2 = 2.5\n"
     ]
    }
   ],
   "source": [
    "print('Optimal value = ', value(prob.objective))\n",
    "for v in prob.variables():\n",
    "    print(v.name, '=', value(v))"
   ]
  },
  {
   "cell_type": "markdown",
   "metadata": {},
   "source": [
    "# P.29 生産計画問題"
   ]
  },
  {
   "cell_type": "code",
   "execution_count": 20,
   "metadata": {
    "collapsed": true
   },
   "outputs": [],
   "source": [
    "A = np.array([[3,1,2], [1,3,0],[0,2,4]])\n",
    "c = np.array([150,200,300])\n",
    "b = np.array([60,36,48])\n",
    "\n",
    "(m,n) = A.shape"
   ]
  },
  {
   "cell_type": "code",
   "execution_count": 23,
   "metadata": {},
   "outputs": [
    {
     "name": "stdout",
     "output_type": "stream",
     "text": [
      "Production:\n",
      "MAXIMIZE\n",
      "150*x1 + 200*x2 + 300*x3 + 0\n",
      "SUBJECT TO\n",
      "ineq1: 3 x1 + x2 + 2 x3 <= 60\n",
      "\n",
      "ineq2: x1 + 3 x2 <= 36\n",
      "\n",
      "ineq3: 2 x2 + 4 x3 <= 48\n",
      "\n",
      "VARIABLES\n",
      "x1 Continuous\n",
      "x2 Continuous\n",
      "x3 Continuous\n",
      "\n"
     ]
    }
   ],
   "source": [
    "prob = LpProblem(name='Production', sense=LpMaximize)\n",
    "\n",
    "x = [LpVariable('x'+str(i+1), lowBound=0) for i in range(n)]\n",
    "\n",
    "prob += lpDot(c,x)\n",
    "\n",
    "for i in range(m):\n",
    "    prob += lpDot(A[i], x) <= b[i], 'ineq'+str(i+1)\n",
    "    \n",
    "print(prob)"
   ]
  },
  {
   "cell_type": "code",
   "execution_count": 27,
   "metadata": {},
   "outputs": [
    {
     "name": "stdout",
     "output_type": "stream",
     "text": [
      "Optimal\n",
      "Optimal value =  5800.0\n",
      "x1 = 12.0\n",
      "x2 = 8.0\n",
      "x3 = 8.0\n"
     ]
    }
   ],
   "source": [
    "prob.solve()\n",
    "print(LpStatus[prob.status])\n",
    "\n",
    "print('Optimal value = ', value(prob.objective))\n",
    "for v in prob.variables():\n",
    "    print(v.name, '=', value(v))"
   ]
  },
  {
   "cell_type": "markdown",
   "metadata": {},
   "source": [
    "# P.35 生産計画問題の双対問題"
   ]
  },
  {
   "cell_type": "code",
   "execution_count": 31,
   "metadata": {},
   "outputs": [
    {
     "name": "stdout",
     "output_type": "stream",
     "text": [
      "Dual_Production:\n",
      "MINIMIZE\n",
      "60*y1 + 36*y2 + 48*y3 + 0\n",
      "SUBJECT TO\n",
      "ineq1: 3 y1 + y2 >= 150\n",
      "\n",
      "ineq2: y1 + 3 y2 + 2 y3 >= 200\n",
      "\n",
      "ineq3: 2 y1 + 4 y3 >= 300\n",
      "\n",
      "VARIABLES\n",
      "y1 Continuous\n",
      "y2 Continuous\n",
      "y3 Continuous\n",
      "\n"
     ]
    }
   ],
   "source": [
    "dual = LpProblem(name='Dual_Production', sense=LpMinimize)\n",
    "\n",
    "y = [LpVariable('y'+str(i+1), lowBound=0) for i in range(m)]\n",
    "\n",
    "dual += lpDot(b,y)\n",
    "\n",
    "for j in range(n):\n",
    "    dual += lpDot(A.T[j], y) >= c[j], 'ineq'+str(j+1)\n",
    "    \n",
    "print(dual)"
   ]
  },
  {
   "cell_type": "code",
   "execution_count": 32,
   "metadata": {},
   "outputs": [
    {
     "name": "stdout",
     "output_type": "stream",
     "text": [
      "Optimal\n",
      "Optimal value =  5799.999996\n",
      "y1 = 44.444444\n",
      "y2 = 16.666667\n",
      "y3 = 52.777778\n"
     ]
    }
   ],
   "source": [
    "dual.solve()\n",
    "print(LpStatus[dual.status])\n",
    "\n",
    "print('Optimal value = ', value(dual.objective))\n",
    "for v in dual.variables():\n",
    "    print(v.name, '=', value(v))"
   ]
  },
  {
   "cell_type": "code",
   "execution_count": null,
   "metadata": {
    "collapsed": true
   },
   "outputs": [],
   "source": []
  },
  {
   "cell_type": "code",
   "execution_count": null,
   "metadata": {
    "collapsed": true
   },
   "outputs": [],
   "source": []
  }
 ],
 "metadata": {
  "kernelspec": {
   "display_name": "Python 3",
   "language": "python",
   "name": "python3"
  },
  "language_info": {
   "codemirror_mode": {
    "name": "ipython",
    "version": 3
   },
   "file_extension": ".py",
   "mimetype": "text/x-python",
   "name": "python",
   "nbconvert_exporter": "python",
   "pygments_lexer": "ipython3",
   "version": "3.5.4"
  }
 },
 "nbformat": 4,
 "nbformat_minor": 2
}
